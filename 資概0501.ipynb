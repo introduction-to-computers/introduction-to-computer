{
  "nbformat": 4,
  "nbformat_minor": 0,
  "metadata": {
    "colab": {
      "provenance": [],
      "authorship_tag": "ABX9TyPRsJN1W+yQSa3Mc4cXVdSO",
      "include_colab_link": true
    },
    "kernelspec": {
      "name": "python3",
      "display_name": "Python 3"
    },
    "language_info": {
      "name": "python"
    }
  },
  "cells": [
    {
      "cell_type": "markdown",
      "metadata": {
        "id": "view-in-github",
        "colab_type": "text"
      },
      "source": [
        "<a href=\"https://colab.research.google.com/github/introduction-to-computers/introduction-to-computer/blob/main/%E8%B3%87%E6%A6%820501.ipynb\" target=\"_parent\"><img src=\"https://colab.research.google.com/assets/colab-badge.svg\" alt=\"Open In Colab\"/></a>"
      ]
    },
    {
      "cell_type": "code",
      "execution_count": 1,
      "metadata": {
        "id": "eE1itLEhTh4j",
        "colab": {
          "base_uri": "https://localhost:8080/"
        },
        "outputId": "bf807ea5-7f46-4565-b270-e4b06ba4409d"
      },
      "outputs": [
        {
          "output_type": "stream",
          "name": "stdout",
          "text": [
            "請輸入分數70\n",
            "及格\n"
          ]
        }
      ],
      "source": [
        "score=int(input('請輸入分數'))\n",
        "if score >=60 :\n",
        "  print('及格')"
      ]
    },
    {
      "cell_type": "code",
      "source": [
        "數學=60\n",
        "英文=50\n",
        "if 數學 > 英文:\n",
        "  print('數學比較高')\n",
        "else:\n",
        "  print('英文比較高')"
      ],
      "metadata": {
        "colab": {
          "base_uri": "https://localhost:8080/"
        },
        "id": "3fvD02k8yySS",
        "outputId": "9f3ca77f-bfcb-4969-8b75-5c391a2baf3c"
      },
      "execution_count": 2,
      "outputs": [
        {
          "output_type": "stream",
          "name": "stdout",
          "text": [
            "數學比較高\n"
          ]
        }
      ]
    },
    {
      "cell_type": "code",
      "source": [
        "a=int(input('請輸入密碼'))\n",
        "if a == 1234:\n",
        "  print('歡迎光臨!')"
      ],
      "metadata": {
        "colab": {
          "base_uri": "https://localhost:8080/"
        },
        "id": "KugO1Pz1zaur",
        "outputId": "4cbdee32-36a8-4b8b-fd2d-07247b90534f"
      },
      "execution_count": 7,
      "outputs": [
        {
          "output_type": "stream",
          "name": "stdout",
          "text": [
            "請輸入密碼1234\n",
            "歡迎光臨!\n"
          ]
        }
      ]
    },
    {
      "cell_type": "code",
      "source": [
        "rain=input('今天會下雨嗎?')\n",
        "if rain =='Y' or 'y':\n",
        "  print('不用帶傘')"
      ],
      "metadata": {
        "colab": {
          "base_uri": "https://localhost:8080/"
        },
        "id": "oJTCZHl-0ZxD",
        "outputId": "21e84b4b-76a5-427b-ae7f-3338f1f7adb7"
      },
      "execution_count": 11,
      "outputs": [
        {
          "output_type": "stream",
          "name": "stdout",
          "text": [
            "今天會下雨嗎?y\n",
            "不用帶傘\n"
          ]
        }
      ]
    },
    {
      "cell_type": "code",
      "source": [
        "a=int(input('請輸入正整數:'))\n",
        "if a %2 ==0:\n",
        "  print('{}為偶數'.format(a))\n",
        "else:\n",
        "  print('{}為奇數'.format(a))"
      ],
      "metadata": {
        "colab": {
          "base_uri": "https://localhost:8080/"
        },
        "id": "iF7zQ8zx02XF",
        "outputId": "289640e3-45d2-4663-cab0-f55e5562831d"
      },
      "execution_count": 19,
      "outputs": [
        {
          "output_type": "stream",
          "name": "stdout",
          "text": [
            "請輸入正整數:61\n",
            "61為奇數\n"
          ]
        }
      ]
    }
  ]
}