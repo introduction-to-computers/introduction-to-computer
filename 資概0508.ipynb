{
  "nbformat": 4,
  "nbformat_minor": 0,
  "metadata": {
    "colab": {
      "provenance": [],
      "authorship_tag": "ABX9TyNRWHzU0sM8tRzEB5eUkhkx",
      "include_colab_link": true
    },
    "kernelspec": {
      "name": "python3",
      "display_name": "Python 3"
    },
    "language_info": {
      "name": "python"
    }
  },
  "cells": [
    {
      "cell_type": "markdown",
      "metadata": {
        "id": "view-in-github",
        "colab_type": "text"
      },
      "source": [
        "<a href=\"https://colab.research.google.com/github/introduction-to-computers/introduction-to-computer/blob/main/%E8%B3%87%E6%A6%820508.ipynb\" target=\"_parent\"><img src=\"https://colab.research.google.com/assets/colab-badge.svg\" alt=\"Open In Colab\"/></a>"
      ]
    },
    {
      "cell_type": "code",
      "execution_count": 1,
      "metadata": {
        "colab": {
          "base_uri": "https://localhost:8080/"
        },
        "id": "W8aencq4dUbU",
        "outputId": "8018e992-7100-4b87-e084-5b3b1dd2cb8c"
      },
      "outputs": [
        {
          "output_type": "stream",
          "name": "stdout",
          "text": [
            "請輸入體溫:36.5\n",
            "體溫正常!\n"
          ]
        }
      ],
      "source": [
        "a=float(input('請輸入體溫:'))\n",
        "if (a >= 37.5):\n",
        "  print ('體溫過高!')\n",
        "elif 37.1 <= a <= 37.4:\n",
        "  print('體溫略高!')\n",
        "elif 36.1 <= a <= 37:\n",
        "  print('體溫正常!')\n",
        "else:\n",
        "  print('體溫異常，請重新量測!')"
      ]
    },
    {
      "cell_type": "code",
      "source": [
        "a=int(input('請輸入成績:'))\n",
        "if (a >= 0 and a <= 100):\n",
        "  if (a >= 90):\n",
        "    print('A')\n",
        "  elif (80 <= a <= 89):\n",
        "    print('B')\n",
        "  elif (70 <= a <= 79):\n",
        "    print('C')\n",
        "  elif (60 <= a <= 69):\n",
        "    print('D')\n",
        "  else:\n",
        "    print('E')"
      ],
      "metadata": {
        "colab": {
          "base_uri": "https://localhost:8080/"
        },
        "id": "9ocWX6ITdtwt",
        "outputId": "d00ad260-7249-4caf-bc0e-14664821c44c"
      },
      "execution_count": 2,
      "outputs": [
        {
          "output_type": "stream",
          "name": "stdout",
          "text": [
            "請輸入成績:53\n",
            "E\n"
          ]
        }
      ]
    },
    {
      "cell_type": "code",
      "source": [
        "month=int(input('請輸入月份:'))\n",
        "if (month >= 1 and month <= 12):\n",
        "  if (month == 3 or month == 4 or month == 5):\n",
        "    print('{}月是春天!'.format(month))\n",
        "  elif (month == 6 or month == 7 or month == 8):\n",
        "    print('{}月是夏天!'.format(month))\n",
        "  elif (month == 9 or month == 10 or month == 11):\n",
        "    print('{}月是秋天!'.format(month))\n",
        "  else:\n",
        "    print('{}月是冬天!'.format(month))\n",
        "else:\n",
        "  print('月份不在範圍內!')"
      ],
      "metadata": {
        "colab": {
          "base_uri": "https://localhost:8080/"
        },
        "id": "Lfgl-IlSeA10",
        "outputId": "6016b369-afcd-411b-d096-83ccca99a6a6"
      },
      "execution_count": 18,
      "outputs": [
        {
          "output_type": "stream",
          "name": "stdout",
          "text": [
            "請輸入月份:14\n",
            "月份不在範圍內!\n"
          ]
        }
      ]
    },
    {
      "cell_type": "code",
      "source": [
        "#月份的另一寫法\n",
        "month = int(input('請輸入月份:'))\n",
        "if 1 <= month <= 12:\n",
        "    if month in (3, 4, 5):\n",
        "        print('{}月是春天!'.format(month))\n",
        "    elif month in (6, 7, 8):\n",
        "        print('{}月是夏天!'.format(month))\n",
        "    elif month in (9, 10, 11):\n",
        "        print('{}月是秋天!'.format(month))\n",
        "    else:\n",
        "        print('{}月是冬天!'.format(month))\n",
        "else:\n",
        "    print('月份不在範圍內!')"
      ],
      "metadata": {
        "colab": {
          "base_uri": "https://localhost:8080/"
        },
        "id": "5uVMGmfZgzPv",
        "outputId": "4c880455-cc9d-4e43-9160-70e161578066"
      },
      "execution_count": 21,
      "outputs": [
        {
          "output_type": "stream",
          "name": "stdout",
          "text": [
            "請輸入月份:4\n",
            "4月是春天!\n"
          ]
        }
      ]
    }
  ]
}